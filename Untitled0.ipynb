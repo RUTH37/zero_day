{
  "nbformat": 4,
  "nbformat_minor": 0,
  "metadata": {
    "colab": {
      "provenance": [],
      "authorship_tag": "ABX9TyN5RG+tLIzU2r7nISglttN3",
      "include_colab_link": true
    },
    "kernelspec": {
      "name": "python3",
      "display_name": "Python 3"
    },
    "language_info": {
      "name": "python"
    }
  },
  "cells": [
    {
      "cell_type": "markdown",
      "metadata": {
        "id": "view-in-github",
        "colab_type": "text"
      },
      "source": [
        "<a href=\"https://colab.research.google.com/github/RUTH37/zero_day/blob/master/Untitled0.ipynb\" target=\"_parent\"><img src=\"https://colab.research.google.com/assets/colab-badge.svg\" alt=\"Open In Colab\"/></a>"
      ]
    },
    {
      "cell_type": "code",
      "source": [
        "from getpass import getpass as input # to hide password\n",
        "print()\n",
        "print(\"Rock Paper Scissors Game\")\n",
        "print(\"------------------------------\")\n",
        "print()\n",
        "print(\"Welcome to the game\")\n",
        "print()\n",
        "print(\"Select your move (R for Rock, P for Paper, S for Scissors)\")\n",
        "player1_Move = input(\"Player 1> \")\n",
        "print()\n",
        "player2_Move = input(\"Player2> \")\n",
        "print()\n",
        "\n",
        "if player1_Move == player2_Move:\n",
        "    print(\"It's a tie!\")\n",
        "    print()\n",
        "if player1_Move == \"R\":\n",
        "    if player2_Move == \"S\":\n",
        "        print(\"Player1's Rock smashes Player2's Scissors!\")\n",
        "        print(\"Player1 wins!\")\n",
        "    elif player1_Move == \"R\":\n",
        "      if player2_Move == \"P\":\n",
        "        print(\"Player1's Rock is smothered by Player2's Paper!\")\n",
        "        print(\"Player2 wins!\")\n",
        "    elif player1_Move == \"P\":\n",
        "      if player2_Move == \"S\":\n",
        "        print(\"Player1's Paper is cut by Player2's Scissors!\")\n",
        "        print(\"Player2 wins!\")\n",
        "    else :\n",
        "      print(\"Invalid move Player2!\")\n",
        "elif player1_Move == \"S\":\n",
        "  if player2_Move == \"R\":\n",
        "        print(\"Player1's Scissors is smashed by Player2's Rock!\")\n",
        "        print(\"Player2 wins!\")\n",
        "elif player2_Move == \"P\":\n",
        "        print(\"Player1's Scissors cuts Player2's Paper!\")\n",
        "        print(\"Player1 wins!\")\n",
        "else :\n",
        "        print(\"Invalid move Player2!\")\n",
        "\n"
      ],
      "metadata": {
        "id": "XJ6IRTjbUTk1"
      },
      "execution_count": null,
      "outputs": []
    },
    {
      "cell_type": "code",
      "execution_count": null,
      "metadata": {
        "id": "CEyLShh9UHfj"
      },
      "outputs": [],
      "source": []
    }
  ]
}