{
  "nbformat": 4,
  "nbformat_minor": 0,
  "metadata": {
    "colab": {
      "provenance": [],
      "authorship_tag": "ABX9TyOVDJLd5PmJpWydZumNEySV",
      "include_colab_link": true
    },
    "kernelspec": {
      "name": "python3",
      "display_name": "Python 3"
    },
    "language_info": {
      "name": "python"
    }
  },
  "cells": [
    {
      "cell_type": "markdown",
      "metadata": {
        "id": "view-in-github",
        "colab_type": "text"
      },
      "source": [
        "<a href=\"https://colab.research.google.com/github/RUTH37/zero_day/blob/master/Guess_the_lyrics.ipynb\" target=\"_parent\"><img src=\"https://colab.research.google.com/assets/colab-badge.svg\" alt=\"Open In Colab\"/></a>"
      ]
    },
    {
      "cell_type": "code",
      "execution_count": null,
      "metadata": {
        "id": "eVm_KARPA9J8"
      },
      "outputs": [],
      "source": [
        "print(\"welcome to complete the Lyrics Game\")\n",
        "print()\n",
        "print(\"Figure out the missing words in the lyrics tothe song\")\n",
        "print()\n",
        "\n",
        "counter = 1\n",
        "while True:\n",
        "  lyrics =input(\"...Miracle no dey ___________ Jesus...\")\n",
        "  if lyrics == \"tire\" or lyrics ==  \"Tire\":\n",
        "    print(\"You got it!\")\n",
        "  else:\n",
        "    print(\"Try again!\")\n",
        "    counter += 1\n",
        "  if lyrics == \"Tire\" or lyrics == \"tire\":\n",
        "    break\n",
        "print(\"Thanks for playing\")\n",
        "print()\n",
        "print(\"You got it in\", counter, \"attempts\")"
      ]
    },
    {
      "cell_type": "code",
      "source": [],
      "metadata": {
        "id": "vomf35-eBOvt"
      },
      "execution_count": null,
      "outputs": []
    }
  ]
}