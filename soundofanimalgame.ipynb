{
  "nbformat": 4,
  "nbformat_minor": 0,
  "metadata": {
    "colab": {
      "provenance": [],
      "authorship_tag": "ABX9TyNyyy7OVrZewYqP3w5YfzLw",
      "include_colab_link": true
    },
    "kernelspec": {
      "name": "python3",
      "display_name": "Python 3"
    },
    "language_info": {
      "name": "python"
    }
  },
  "cells": [
    {
      "cell_type": "markdown",
      "metadata": {
        "id": "view-in-github",
        "colab_type": "text"
      },
      "source": [
        "<a href=\"https://colab.research.google.com/github/RUTH37/zero_day/blob/master/soundofanimalgame.ipynb\" target=\"_parent\"><img src=\"https://colab.research.google.com/assets/colab-badge.svg\" alt=\"Open In Colab\"/></a>"
      ]
    },
    {
      "cell_type": "code",
      "execution_count": null,
      "metadata": {
        "id": "9hZVjVTQg5ac"
      },
      "outputs": [],
      "source": [
        "print(\"What kind of animal do you want?\")\n",
        "exit = \"\"\n",
        "while exit != \"yes\":\n",
        "  animal = input(\"What animal do you want? \")\n",
        "  if animal == \"cow\" or animal == \"Cow\":\n",
        "    print(\"A cow goes Mooo!\")\n",
        "  elif animal == \"pig\" or animal == \"Pig\":\n",
        "    print(\"A pig goes Oink!\")\n",
        "  elif animal == \"duck\" or animal == \"Duck\":\n",
        "    print(\"A duck goes quack!\")\n",
        "  elif animal == \"cat\" or animal == \"Cat\":\n",
        "    print(\"A cat goes meow!\")\n",
        "  elif animal == \"dog\" or animal == \"Dog\":\n",
        "    print(\"A dog goes woof!\")\n",
        "  else:\n",
        "    print(\"I don't know that animal!\")\n",
        "    exit = input(\"Do you want to exit?: \")\n",
        "\n",
        "\n",
        "\n",
        "    exit = \"no\"\n",
        "while exit == \"no\":\n",
        "  animal_sound = input(\"What animal sound do you want to hear?\")\n",
        "\n",
        "  if animal_sound == \"cow\" or animal_sound == \"Cow\":\n",
        "    print(\"🐮 Moo\")\n",
        "  elif animal_sound == \"pig\" or animal_sound == \"Pig\":\n",
        "    print (\"🐷 Oink\")\n",
        "  elif animal_sound == \"sheep\" or animal_sound == \"Sheep\":\n",
        "    print (\"🐑 Baaa\")\n",
        "  elif animal_sound == \"duck\" or animal_sound == \"Duck\":\n",
        "    print(\"🦆 Quack\")\n",
        "  elif animal_sound == \"dog\" or animal_sound == \"Dog\":\n",
        "    print(\"🐶 Woof\")\n",
        "  elif animal_sound == \"cat\" or animal_sound == \"Cat\":\n",
        "    print(\"🐱 Meow\")\n",
        "  else:\n",
        "    print(\"I don't know that animal sound. Try again.\")\n",
        "  exit = input(\"Do you want to exit?: \")\n"
      ]
    }
  ]
}